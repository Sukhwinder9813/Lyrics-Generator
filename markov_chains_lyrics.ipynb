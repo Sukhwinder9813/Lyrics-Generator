{
  "nbformat": 4,
  "nbformat_minor": 0,
  "metadata": {
    "kernelspec": {
      "display_name": "Python 3",
      "language": "python",
      "name": "python3"
    },
    "language_info": {
      "codemirror_mode": {
        "name": "ipython",
        "version": 3
      },
      "file_extension": ".py",
      "mimetype": "text/x-python",
      "name": "python",
      "nbconvert_exporter": "python",
      "pygments_lexer": "ipython3",
      "version": "3.7.2"
    },
    "colab": {
      "name": "markov_chains_apnatimeaayega.ipynb",
      "provenance": [],
      "include_colab_link": true
    }
  },
  "cells": [
    {
      "cell_type": "markdown",
      "metadata": {
        "id": "view-in-github",
        "colab_type": "text"
      },
      "source": [
        "<a href=\"https://colab.research.google.com/github/Sukhwinder9813/Lyrics-Generator/blob/master/markov_chains_lyrics.ipynb\" target=\"_parent\"><img src=\"https://colab.research.google.com/assets/colab-badge.svg\" alt=\"Open In Colab\"/></a>"
      ]
    },
    {
      "cell_type": "code",
      "metadata": {
        "id": "MHt6oTNx8BJl",
        "colab_type": "code",
        "colab": {}
      },
      "source": [
        "import numpy as np"
      ],
      "execution_count": null,
      "outputs": []
    },
    {
      "cell_type": "code",
      "metadata": {
        "id": "ys00b7Pe8BJu",
        "colab_type": "code",
        "colab": {}
      },
      "source": [
        "text_path=\"challenges/lyric_generation_apna_time_ayega/Apna Time Aayega.txt\""
      ],
      "execution_count": null,
      "outputs": []
    },
    {
      "cell_type": "code",
      "metadata": {
        "id": "_WE_7Okl8BJ3",
        "colab_type": "code",
        "colab": {}
      },
      "source": [
        "def load_text(filename):\n",
        "    with open(filename,encoding='utf8') as f:\n",
        "        text=f.read().lower()\n",
        "    f.close()\n",
        "    return text"
      ],
      "execution_count": null,
      "outputs": []
    },
    {
      "cell_type": "code",
      "metadata": {
        "id": "_A3CegM38BJ8",
        "colab_type": "code",
        "colab": {}
      },
      "source": [
        "text=load_text(text_path)"
      ],
      "execution_count": null,
      "outputs": []
    },
    {
      "cell_type": "code",
      "metadata": {
        "id": "kAUKGXtu8BKB",
        "colab_type": "code",
        "colab": {}
      },
      "source": [
        "def generate_table(data,k):\n",
        "    t={}\n",
        "    for i in range(len(data)-k):\n",
        "        x=data[i:i+k]\n",
        "        y=data[i+k]\n",
        "        if t.get(x) is None:\n",
        "            t[x]={}\n",
        "            t[x][y]=1\n",
        "        else:\n",
        "            if t[x].get(y) is None:\n",
        "                t[x][y]=1\n",
        "            else:\n",
        "                t[x][y]+=1\n",
        "    return t"
      ],
      "execution_count": null,
      "outputs": []
    },
    {
      "cell_type": "code",
      "metadata": {
        "id": "vCTK57yf8BKI",
        "colab_type": "code",
        "colab": {}
        skjdfhjk
      },
      "source": [
        "def convertFreqIntoProb(t):\n",
        "    for kx in t.keys():\n",
        "        s=float(sum(t[kx].values()))\n",
        "        for k in t[kx].keys():\n",
        "            t[kx][k]=t[kx][k]/s\n",
        "    return t"
      ],
      "execution_count": null,
      "outputs": []
      "outputs":[12123]
    },
    {
      "cell_type": "code",
      "metadata": {
        "id": "RCEWT_tS8BKO",
        "colab_type": "code",
        "colab": {}
      },
      "source": [
        "def train_model(text,k=4):\n",
        "    model=generate_table(text,k)\n",
        "    model=convertFreqIntoProb(model)\n",
        "    return model"
      ],
      "execution_count": null,
      "outputs": []
    },
    {
      "cell_type": "code",
      "metadata": {
        "id": "2zPfWk9u8BKZ",
        "colab_type": "code",
        "colab": {}
      },
      "source": [
        "def sample_next(ctx,t,k):\n",
        "    ctx=ctx[-k:]\n",
        "    if t.get(ctx) is None:\n",
        "        return \" \"\n",
        "    possible_chars=list(t[ctx].keys())\n",
        "    possible_values=list(t[ctx].values())\n",
        "    return np.random.choice(possible_chars,p=possible_values)    "
      ],
      "execution_count": null,
      "outputs": []
    },
    {
      "cell_type": "code",
      "metadata": {
        "id": "f1iGZ4le8BKe",
        "colab_type": "code",
        "colab": {}
      },
      "source": [
        "def generateText(model,starting_sent,maxlen=2000,k=4):\n",
        "    np.random.seed(11)\n",
        "    sentence=starting_sent\n",
        "    ctx=starting_sent[-k:]\n",
        "    for i in range(maxlen):\n",
        "        next_pred=sample_next(ctx,model,k)\n",
        "        sentence+=next_pred\n",
        "        ctx=sentence[-k:]\n",
        "    return sentence"
      ],
      "execution_count": null,
      "outputs": []
    },
    {
      "cell_type": "code",
      "metadata": {
        "id": "GIWrnzNb8BKk",
        "colab_type": "code",
        "colab": {}
      },
      "source": [
        "k=4\n",
        "model=train_model(text,k)\n",
        "output=generateText(model,'apna',2000)"
      ],
      "execution_count": null,
      "outputs": []
    },
    {
      "cell_type": "code",
      "metadata": {
        "id": "dMLdjmKg8BKp",
        "colab_type": "code",
        "colab": {}
      },
      "source": [
        "path=\"challenges/lyric_generation_apna_time_ayega/\""
      ],
      "execution_count": null,
      "outputs": []
    },
    {
      "cell_type": "code",
      "metadata": {
        "id": "cOzuidNi8BKu",
        "colab_type": "code",
        "colab": {}
      },
      "source": [
        "path=path+\"test_output.txt\""
      ],
      "execution_count": null,
      "outputs": []
    },
    {
      "cell_type": "code",
      "metadata": {
        "id": "a5OMqucY8BK4",
        "colab_type": "code",
        "colab": {}
      },
      "source": [
        "with open(path,\"w\") as f:\n",
        "    f.write(output)"
      ],
      "execution_count": null,
      "outputs": []
    },
    {
      "cell_type": "code",
      "metadata": {
        "id": "o26MTA5E8BK9",
        "colab_type": "code",
        "colab": {}
      },
      "source": [
        ""
      ],
      "execution_count": null,
      "outputs": []
    },
    {
      "cell_type": "code",
      "metadata": {
        "id": "AmxScoyw8BLC",
        "colab_type": "code",
        "colab": {}
      },
      "source": [
        ""
      ],
      "execution_count": null,
      "outputs": []
    },
    {
      "cell_type": "code",
      "metadata": {
        "id": "uyGnr8JZ8BLG",
        "colab_type": "code",
        "colab": {}
      },
      "source": [
        ""
      ],
      "execution_count": null,
      "outputs": []
    },
    {
      "cell_type": "code",
      "metadata": {
        "id": "tEf5akbO8BLP",
        "colab_type": "code",
        "colab": {}
      },
      "source": [
        ""
      ],
      "execution_count": null,asd
      "outputs": []
    },
    {
      "cell_type": "code",adasd
      "metadata": {
        "id": "fsoBhtF88BLU",
        "colab_type": "code",
        "colab": {}asdasd
      },
      "source": [
        ""
      ],
      "execution_count": null,
      "outputs": []
    }sdad
  ]
}asdasd